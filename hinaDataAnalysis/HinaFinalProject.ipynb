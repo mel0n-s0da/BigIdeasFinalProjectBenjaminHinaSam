{
 "cells": [
  {
   "cell_type": "markdown",
   "metadata": {},
   "source": [
    "# Hina's Data Analysis"
   ]
  },
  {
   "cell_type": "markdown",
   "metadata": {},
   "source": [
    "To answer the question \"What is the best neighborhood in Pittsburgh?\" we are determining which neighborhood is the most alien invarient :D\n",
    "<br> I'll use the amount of speed humps and the total field area for each neighborhood to measure how easy it is to run away from the aliens and set up camp, respectively. "
   ]
  },
  {
   "cell_type": "markdown",
   "metadata": {},
   "source": [
    "## Speed Humps\n",
    "City of Pittsburgh Speed Humps: https://data.wprdc.org/dataset/city-of-pittsburgh-speed-humps\n",
    "<br> This data set lists each recorded speed hump in the city of Pittsburgh with which neighborhood they're located in.\n",
    "<br> We'll find the neighborhood with the most amount of speed humps as the more speed humps there are, the more the alien's vehicle will be slowed down "
   ]
  },
  {
   "cell_type": "code",
   "execution_count": 1,
   "metadata": {},
   "outputs": [],
   "source": [
    "# Load libraries\n",
    "import pandas as pd\n",
    "import numpy as np\n",
    "%matplotlib inline\n",
    "import geopandas\n",
    "import matplotlib.pyplot as plt"
   ]
  },
  {
   "cell_type": "code",
   "execution_count": 2,
   "metadata": {},
   "outputs": [
    {
     "data": {
      "text/html": [
       "<div>\n",
       "<style scoped>\n",
       "    .dataframe tbody tr th:only-of-type {\n",
       "        vertical-align: middle;\n",
       "    }\n",
       "\n",
       "    .dataframe tbody tr th {\n",
       "        vertical-align: top;\n",
       "    }\n",
       "\n",
       "    .dataframe thead th {\n",
       "        text-align: right;\n",
       "    }\n",
       "</style>\n",
       "<table border=\"1\" class=\"dataframe\">\n",
       "  <thead>\n",
       "    <tr style=\"text-align: right;\">\n",
       "      <th></th>\n",
       "      <th>id</th>\n",
       "      <th>hump_id</th>\n",
       "      <th>locator_address_number</th>\n",
       "      <th>locator_street</th>\n",
       "      <th>pavement</th>\n",
       "      <th>speed_hump_material</th>\n",
       "      <th>neighborhood</th>\n",
       "      <th>council_district</th>\n",
       "      <th>ward</th>\n",
       "      <th>tract</th>\n",
       "      <th>public_works_division</th>\n",
       "      <th>pli_division</th>\n",
       "      <th>police_zone</th>\n",
       "      <th>fire_zone</th>\n",
       "      <th>latitude</th>\n",
       "      <th>longitude</th>\n",
       "    </tr>\n",
       "  </thead>\n",
       "  <tbody>\n",
       "    <tr>\n",
       "      <th>21</th>\n",
       "      <td>504225575</td>\n",
       "      <td>26</td>\n",
       "      <td>3716.0</td>\n",
       "      <td>Melwood Ave</td>\n",
       "      <td>14629</td>\n",
       "      <td>Asphalt</td>\n",
       "      <td>Polish Hill</td>\n",
       "      <td>7</td>\n",
       "      <td>6</td>\n",
       "      <td>42003060500</td>\n",
       "      <td>6</td>\n",
       "      <td>6</td>\n",
       "      <td>2</td>\n",
       "      <td>2-6</td>\n",
       "      <td>40.460015</td>\n",
       "      <td>-79.958252</td>\n",
       "    </tr>\n",
       "    <tr>\n",
       "      <th>63</th>\n",
       "      <td>1233595442</td>\n",
       "      <td>64</td>\n",
       "      <td>2105.0</td>\n",
       "      <td>Mission St</td>\n",
       "      <td>18058</td>\n",
       "      <td>Asphalt</td>\n",
       "      <td>South Side Slopes</td>\n",
       "      <td>3</td>\n",
       "      <td>16</td>\n",
       "      <td>42003160800</td>\n",
       "      <td>3</td>\n",
       "      <td>16</td>\n",
       "      <td>3</td>\n",
       "      <td>4-24</td>\n",
       "      <td>40.423281</td>\n",
       "      <td>-79.975414</td>\n",
       "    </tr>\n",
       "    <tr>\n",
       "      <th>2</th>\n",
       "      <td>858537521</td>\n",
       "      <td>3</td>\n",
       "      <td>511.0</td>\n",
       "      <td>Gold Way</td>\n",
       "      <td>1755</td>\n",
       "      <td>Asphalt</td>\n",
       "      <td>North Oakland</td>\n",
       "      <td>6</td>\n",
       "      <td>5</td>\n",
       "      <td>42003562000</td>\n",
       "      <td>3</td>\n",
       "      <td>5</td>\n",
       "      <td>4</td>\n",
       "      <td>2-23</td>\n",
       "      <td>40.456746</td>\n",
       "      <td>-79.954521</td>\n",
       "    </tr>\n",
       "    <tr>\n",
       "      <th>53</th>\n",
       "      <td>494800222</td>\n",
       "      <td>54</td>\n",
       "      <td>1761.0</td>\n",
       "      <td>Parkview Blvd</td>\n",
       "      <td>20126</td>\n",
       "      <td>Asphalt</td>\n",
       "      <td>Squirrel Hill South</td>\n",
       "      <td>5</td>\n",
       "      <td>15</td>\n",
       "      <td>42003141400</td>\n",
       "      <td>3</td>\n",
       "      <td>15</td>\n",
       "      <td>4</td>\n",
       "      <td>2-20</td>\n",
       "      <td>40.416255</td>\n",
       "      <td>-79.920802</td>\n",
       "    </tr>\n",
       "    <tr>\n",
       "      <th>66</th>\n",
       "      <td>1237386520</td>\n",
       "      <td>67</td>\n",
       "      <td>2512.0</td>\n",
       "      <td>Mission St</td>\n",
       "      <td>15541</td>\n",
       "      <td>Asphalt</td>\n",
       "      <td>South Side Slopes</td>\n",
       "      <td>3</td>\n",
       "      <td>16</td>\n",
       "      <td>42003160800</td>\n",
       "      <td>3</td>\n",
       "      <td>16</td>\n",
       "      <td>3</td>\n",
       "      <td>4-22</td>\n",
       "      <td>40.422768</td>\n",
       "      <td>-79.971155</td>\n",
       "    </tr>\n",
       "    <tr>\n",
       "      <th>31</th>\n",
       "      <td>1446333174</td>\n",
       "      <td>32</td>\n",
       "      <td>236.0</td>\n",
       "      <td>Grandview Ave</td>\n",
       "      <td>9528</td>\n",
       "      <td>Asphalt</td>\n",
       "      <td>Mount Washington</td>\n",
       "      <td>2</td>\n",
       "      <td>19</td>\n",
       "      <td>42003191400</td>\n",
       "      <td>5</td>\n",
       "      <td>19</td>\n",
       "      <td>3</td>\n",
       "      <td>4-27</td>\n",
       "      <td>40.432651</td>\n",
       "      <td>-80.008690</td>\n",
       "    </tr>\n",
       "    <tr>\n",
       "      <th>47</th>\n",
       "      <td>586776709</td>\n",
       "      <td>48</td>\n",
       "      <td>2150.0</td>\n",
       "      <td>Beechwood Blvd</td>\n",
       "      <td>19509</td>\n",
       "      <td>Asphalt</td>\n",
       "      <td>Squirrel Hill South</td>\n",
       "      <td>5</td>\n",
       "      <td>14</td>\n",
       "      <td>42003140800</td>\n",
       "      <td>3</td>\n",
       "      <td>14</td>\n",
       "      <td>4</td>\n",
       "      <td>2-21</td>\n",
       "      <td>40.434943</td>\n",
       "      <td>-79.912392</td>\n",
       "    </tr>\n",
       "    <tr>\n",
       "      <th>17</th>\n",
       "      <td>1766344814</td>\n",
       "      <td>22</td>\n",
       "      <td>3628.0</td>\n",
       "      <td>Melwood Ave</td>\n",
       "      <td>15250</td>\n",
       "      <td>Asphalt</td>\n",
       "      <td>Polish Hill</td>\n",
       "      <td>7</td>\n",
       "      <td>6</td>\n",
       "      <td>42003060500</td>\n",
       "      <td>6</td>\n",
       "      <td>6</td>\n",
       "      <td>2</td>\n",
       "      <td>2-6</td>\n",
       "      <td>40.459752</td>\n",
       "      <td>-79.959536</td>\n",
       "    </tr>\n",
       "    <tr>\n",
       "      <th>9</th>\n",
       "      <td>1822275525</td>\n",
       "      <td>14</td>\n",
       "      <td>1937.0</td>\n",
       "      <td>Jacob St</td>\n",
       "      <td>17688</td>\n",
       "      <td>Asphalt</td>\n",
       "      <td>Brookline</td>\n",
       "      <td>4</td>\n",
       "      <td>32</td>\n",
       "      <td>42003320600</td>\n",
       "      <td>5</td>\n",
       "      <td>32</td>\n",
       "      <td>6</td>\n",
       "      <td>4-25</td>\n",
       "      <td>40.394180</td>\n",
       "      <td>-79.999611</td>\n",
       "    </tr>\n",
       "    <tr>\n",
       "      <th>39</th>\n",
       "      <td>905381373</td>\n",
       "      <td>40</td>\n",
       "      <td>NaN</td>\n",
       "      <td>Boundary St</td>\n",
       "      <td>4523</td>\n",
       "      <td>NaN</td>\n",
       "      <td>North Oakland</td>\n",
       "      <td>8</td>\n",
       "      <td>14</td>\n",
       "      <td>42003140100</td>\n",
       "      <td>3</td>\n",
       "      <td>14</td>\n",
       "      <td>4</td>\n",
       "      <td>2-8</td>\n",
       "      <td>40.443192</td>\n",
       "      <td>-79.947667</td>\n",
       "    </tr>\n",
       "  </tbody>\n",
       "</table>\n",
       "</div>"
      ],
      "text/plain": [
       "            id  hump_id  locator_address_number  locator_street  pavement  \\\n",
       "21   504225575       26                  3716.0     Melwood Ave     14629   \n",
       "63  1233595442       64                  2105.0      Mission St     18058   \n",
       "2    858537521        3                   511.0        Gold Way      1755   \n",
       "53   494800222       54                  1761.0   Parkview Blvd     20126   \n",
       "66  1237386520       67                  2512.0      Mission St     15541   \n",
       "31  1446333174       32                   236.0   Grandview Ave      9528   \n",
       "47   586776709       48                  2150.0  Beechwood Blvd     19509   \n",
       "17  1766344814       22                  3628.0     Melwood Ave     15250   \n",
       "9   1822275525       14                  1937.0        Jacob St     17688   \n",
       "39   905381373       40                     NaN     Boundary St      4523   \n",
       "\n",
       "   speed_hump_material         neighborhood  council_district  ward  \\\n",
       "21             Asphalt          Polish Hill                 7     6   \n",
       "63             Asphalt    South Side Slopes                 3    16   \n",
       "2              Asphalt        North Oakland                 6     5   \n",
       "53             Asphalt  Squirrel Hill South                 5    15   \n",
       "66             Asphalt    South Side Slopes                 3    16   \n",
       "31             Asphalt     Mount Washington                 2    19   \n",
       "47             Asphalt  Squirrel Hill South                 5    14   \n",
       "17             Asphalt          Polish Hill                 7     6   \n",
       "9              Asphalt            Brookline                 4    32   \n",
       "39                 NaN        North Oakland                 8    14   \n",
       "\n",
       "          tract  public_works_division  pli_division  police_zone fire_zone  \\\n",
       "21  42003060500                      6             6            2       2-6   \n",
       "63  42003160800                      3            16            3      4-24   \n",
       "2   42003562000                      3             5            4      2-23   \n",
       "53  42003141400                      3            15            4      2-20   \n",
       "66  42003160800                      3            16            3      4-22   \n",
       "31  42003191400                      5            19            3      4-27   \n",
       "47  42003140800                      3            14            4      2-21   \n",
       "17  42003060500                      6             6            2       2-6   \n",
       "9   42003320600                      5            32            6      4-25   \n",
       "39  42003140100                      3            14            4       2-8   \n",
       "\n",
       "     latitude  longitude  \n",
       "21  40.460015 -79.958252  \n",
       "63  40.423281 -79.975414  \n",
       "2   40.456746 -79.954521  \n",
       "53  40.416255 -79.920802  \n",
       "66  40.422768 -79.971155  \n",
       "31  40.432651 -80.008690  \n",
       "47  40.434943 -79.912392  \n",
       "17  40.459752 -79.959536  \n",
       "9   40.394180 -79.999611  \n",
       "39  40.443192 -79.947667  "
      ]
     },
     "execution_count": 2,
     "metadata": {},
     "output_type": "execute_result"
    }
   ],
   "source": [
    "# Load the dataset\n",
    "speedBumps = pd.read_csv(\"speedBumps.csv\")\n",
    "speedBumps.sample(10)"
   ]
  },
  {
   "cell_type": "markdown",
   "metadata": {},
   "source": [
    "First, let's see which neighborhoods have speed humps listed in the data set"
   ]
  },
  {
   "cell_type": "code",
   "execution_count": 4,
   "metadata": {},
   "outputs": [
    {
     "name": "stdout",
     "output_type": "stream",
     "text": [
      "['Squirrel Hill South' 'North Oakland' 'Brookline' 'Bloomfield'\n",
      " 'Polish Hill' 'Homewood South' 'Mount Washington' 'South Side Flats'\n",
      " 'Central Oakland' 'Squirrel Hill North' 'Upper Hill' 'Highland Park'\n",
      " 'Carrick' 'Perry North' 'South Side Slopes' 'Garfield' 'Stanton Heights'\n",
      " 'Overbrook']\n"
     ]
    },
    {
     "data": {
      "text/plain": [
       "18"
      ]
     },
     "execution_count": 4,
     "metadata": {},
     "output_type": "execute_result"
    }
   ],
   "source": [
    "speedBumpsneighborhoods = speedBumps['neighborhood'].unique()\n",
    "print(speedBumpsneighborhoods)\n",
    "len(speedBumpsneighborhoods)"
   ]
  },
  {
   "cell_type": "markdown",
   "metadata": {},
   "source": [
    "We have 18 neighborhoods listed in the dataset."
   ]
  },
  {
   "cell_type": "markdown",
   "metadata": {},
   "source": [
    "Now let's count the speed humps that each neighborhood has:"
   ]
  },
  {
   "cell_type": "code",
   "execution_count": 6,
   "metadata": {},
   "outputs": [
    {
     "name": "stdout",
     "output_type": "stream",
     "text": [
      "Squirrel Hill South    18\n",
      "Carrick                 9\n",
      "Polish Hill             6\n",
      "North Oakland           6\n",
      "South Side Slopes       4\n",
      "Brookline               4\n",
      "Upper Hill              4\n",
      "Homewood South          4\n",
      "Perry North             4\n",
      "Squirrel Hill North     3\n",
      "South Side Flats        3\n",
      "Mount Washington        3\n",
      "Garfield                3\n",
      "Bloomfield              3\n",
      "Highland Park           2\n",
      "Central Oakland         1\n",
      "Overbrook               1\n",
      "Stanton Heights         1\n",
      "Name: neighborhood, dtype: int64\n"
     ]
    },
    {
     "data": {
      "text/plain": [
       "<matplotlib.axes._subplots.AxesSubplot at 0x7f30602926d0>"
      ]
     },
     "execution_count": 6,
     "metadata": {},
     "output_type": "execute_result"
    },
    {
     "data": {
      "image/png": "[encoded data removed]",
      "text/plain": [
       "<Figure size 432x288 with 1 Axes>"
      ]
     },
     "metadata": {
      "needs_background": "light"
     },
     "output_type": "display_data"
    }
   ],
   "source": [
    "speedBumpsPerNeighborhood = speedBumps['neighborhood'].value_counts()\n",
    "print(speedBumpsPerNeighborhood)\n",
    "speedBumpsPerNeighborhood.plot(x='Neighborhoods in Pittsburgh', y='Number of Speedbumps', kind='bar')"
   ]
  },
  {
   "cell_type": "markdown",
   "metadata": {},
   "source": [
    "It looks like with this metric, Squirrel Hill South is the best neighborhood to be in when aliens are chasing you :D"
   ]
  },
  {
   "cell_type": "markdown",
   "metadata": {},
   "source": [
    "## Field Area"
   ]
  },
  {
   "cell_type": "markdown",
   "metadata": {},
   "source": [
    "City of Pittsburgh Playing Fields: https://data.wprdc.org/dataset/playing-fields\n",
    "<br>This data set lists each recorded playing field in the city of Pittsburgh with which neighborhood they're located in and the field measurements of each.\n",
    "<br>We'll find the neighborhood with the most amount of playing field area as the more fields there are, the more potential places to set up shelter after the buildings are destroyed by the aliens.   "
   ]
  },
  {
   "cell_type": "code",
   "execution_count": 8,
   "metadata": {},
   "outputs": [
    {
     "data": {
      "text/html": [
       "<div>\n",
       "<style scoped>\n",
       "    .dataframe tbody tr th:only-of-type {\n",
       "        vertical-align: middle;\n",
       "    }\n",
       "\n",
       "    .dataframe tbody tr th {\n",
       "        vertical-align: top;\n",
       "    }\n",
       "\n",
       "    .dataframe thead th {\n",
       "        text-align: right;\n",
       "    }\n",
       "</style>\n",
       "<table border=\"1\" class=\"dataframe\">\n",
       "  <thead>\n",
       "    <tr style=\"text-align: right;\">\n",
       "      <th></th>\n",
       "      <th>id</th>\n",
       "      <th>name</th>\n",
       "      <th>has_lights</th>\n",
       "      <th>park</th>\n",
       "      <th>field_usage</th>\n",
       "      <th>goal_post</th>\n",
       "      <th>infield_type</th>\n",
       "      <th>left_field_distance</th>\n",
       "      <th>center_field_distance</th>\n",
       "      <th>right_field_distance</th>\n",
       "      <th>...</th>\n",
       "      <th>neighborhood</th>\n",
       "      <th>council_district</th>\n",
       "      <th>ward</th>\n",
       "      <th>tract</th>\n",
       "      <th>public_works_division</th>\n",
       "      <th>pli_division</th>\n",
       "      <th>police_zone</th>\n",
       "      <th>fire_zone</th>\n",
       "      <th>latitude</th>\n",
       "      <th>longitude</th>\n",
       "    </tr>\n",
       "  </thead>\n",
       "  <tbody>\n",
       "    <tr>\n",
       "      <th>0</th>\n",
       "      <td>1914615260</td>\n",
       "      <td>Arlington Field 1</td>\n",
       "      <td>t</td>\n",
       "      <td>Arlington Park</td>\n",
       "      <td>Diamond Only</td>\n",
       "      <td>0</td>\n",
       "      <td>Skinned</td>\n",
       "      <td>160.0</td>\n",
       "      <td>230.0</td>\n",
       "      <td>290.0</td>\n",
       "      <td>...</td>\n",
       "      <td>South Side Slopes</td>\n",
       "      <td>3</td>\n",
       "      <td>16</td>\n",
       "      <td>42003160800</td>\n",
       "      <td>3</td>\n",
       "      <td>16</td>\n",
       "      <td>3</td>\n",
       "      <td>4-22</td>\n",
       "      <td>40.418314</td>\n",
       "      <td>-79.975007</td>\n",
       "    </tr>\n",
       "    <tr>\n",
       "      <th>1</th>\n",
       "      <td>1151740179</td>\n",
       "      <td>Armstrong</td>\n",
       "      <td>f</td>\n",
       "      <td>Armstrong Park</td>\n",
       "      <td>Diamond and Rectangular</td>\n",
       "      <td>0</td>\n",
       "      <td>Skinned</td>\n",
       "      <td>240.0</td>\n",
       "      <td>163.0</td>\n",
       "      <td>122.0</td>\n",
       "      <td>...</td>\n",
       "      <td>South Side Flats</td>\n",
       "      <td>3</td>\n",
       "      <td>17</td>\n",
       "      <td>42003170200</td>\n",
       "      <td>3</td>\n",
       "      <td>17</td>\n",
       "      <td>3</td>\n",
       "      <td>4-24</td>\n",
       "      <td>40.428074</td>\n",
       "      <td>-79.985662</td>\n",
       "    </tr>\n",
       "    <tr>\n",
       "      <th>2</th>\n",
       "      <td>971009139</td>\n",
       "      <td>Bandbox</td>\n",
       "      <td>f</td>\n",
       "      <td>Arsenal Park</td>\n",
       "      <td>Diamond Only</td>\n",
       "      <td>0</td>\n",
       "      <td>Skinned</td>\n",
       "      <td>135.0</td>\n",
       "      <td>200.0</td>\n",
       "      <td>150.0</td>\n",
       "      <td>...</td>\n",
       "      <td>Lower Lawrenceville</td>\n",
       "      <td>7</td>\n",
       "      <td>6</td>\n",
       "      <td>42003060300</td>\n",
       "      <td>2</td>\n",
       "      <td>6</td>\n",
       "      <td>2</td>\n",
       "      <td>3-3</td>\n",
       "      <td>40.466331</td>\n",
       "      <td>-79.961299</td>\n",
       "    </tr>\n",
       "    <tr>\n",
       "      <th>3</th>\n",
       "      <td>1581124728</td>\n",
       "      <td>Banksville</td>\n",
       "      <td>f</td>\n",
       "      <td>Banksville Park</td>\n",
       "      <td>Diamond Only</td>\n",
       "      <td>0</td>\n",
       "      <td>Skinned</td>\n",
       "      <td>304.0</td>\n",
       "      <td>354.0</td>\n",
       "      <td>373.0</td>\n",
       "      <td>...</td>\n",
       "      <td>Banksville</td>\n",
       "      <td>2</td>\n",
       "      <td>20</td>\n",
       "      <td>42003202300</td>\n",
       "      <td>5</td>\n",
       "      <td>20</td>\n",
       "      <td>6</td>\n",
       "      <td>4-9</td>\n",
       "      <td>40.413923</td>\n",
       "      <td>-80.039940</td>\n",
       "    </tr>\n",
       "    <tr>\n",
       "      <th>4</th>\n",
       "      <td>1052125703</td>\n",
       "      <td>Banksville School</td>\n",
       "      <td>t</td>\n",
       "      <td>Banksville School Park</td>\n",
       "      <td>Diamond Only</td>\n",
       "      <td>0</td>\n",
       "      <td>Skinned</td>\n",
       "      <td>180.0</td>\n",
       "      <td>175.0</td>\n",
       "      <td>185.0</td>\n",
       "      <td>...</td>\n",
       "      <td>Banksville</td>\n",
       "      <td>2</td>\n",
       "      <td>20</td>\n",
       "      <td>42003202300</td>\n",
       "      <td>5</td>\n",
       "      <td>20</td>\n",
       "      <td>6</td>\n",
       "      <td>4-9</td>\n",
       "      <td>40.407059</td>\n",
       "      <td>-80.037870</td>\n",
       "    </tr>\n",
       "    <tr>\n",
       "      <th>5</th>\n",
       "      <td>491692062</td>\n",
       "      <td>Bigbee</td>\n",
       "      <td>f</td>\n",
       "      <td>Emerald View Park - Bigbee Field Park</td>\n",
       "      <td>Rectangular Only</td>\n",
       "      <td>0</td>\n",
       "      <td>NaN</td>\n",
       "      <td>NaN</td>\n",
       "      <td>NaN</td>\n",
       "      <td>NaN</td>\n",
       "      <td>...</td>\n",
       "      <td>Allentown</td>\n",
       "      <td>3</td>\n",
       "      <td>18</td>\n",
       "      <td>42003180300</td>\n",
       "      <td>5</td>\n",
       "      <td>18</td>\n",
       "      <td>3</td>\n",
       "      <td>4-5</td>\n",
       "      <td>40.427849</td>\n",
       "      <td>-80.001223</td>\n",
       "    </tr>\n",
       "    <tr>\n",
       "      <th>6</th>\n",
       "      <td>332143201</td>\n",
       "      <td>Bill Stoltz</td>\n",
       "      <td>t</td>\n",
       "      <td>Arlington Park</td>\n",
       "      <td>Diamond Only</td>\n",
       "      <td>0</td>\n",
       "      <td>Skinned</td>\n",
       "      <td>210.0</td>\n",
       "      <td>250.0</td>\n",
       "      <td>240.0</td>\n",
       "      <td>...</td>\n",
       "      <td>South Side Slopes</td>\n",
       "      <td>3</td>\n",
       "      <td>16</td>\n",
       "      <td>42003160800</td>\n",
       "      <td>3</td>\n",
       "      <td>16</td>\n",
       "      <td>3</td>\n",
       "      <td>4-22</td>\n",
       "      <td>40.418624</td>\n",
       "      <td>-79.974959</td>\n",
       "    </tr>\n",
       "    <tr>\n",
       "      <th>7</th>\n",
       "      <td>800768920</td>\n",
       "      <td>Brighton Heights Field 1</td>\n",
       "      <td>f</td>\n",
       "      <td>Brighton Heights Park</td>\n",
       "      <td>Diamond Only</td>\n",
       "      <td>0</td>\n",
       "      <td>Skinned</td>\n",
       "      <td>170.0</td>\n",
       "      <td>170.0</td>\n",
       "      <td>170.0</td>\n",
       "      <td>...</td>\n",
       "      <td>Brighton Heights</td>\n",
       "      <td>1</td>\n",
       "      <td>27</td>\n",
       "      <td>42003270800</td>\n",
       "      <td>1</td>\n",
       "      <td>27</td>\n",
       "      <td>1</td>\n",
       "      <td>1-14</td>\n",
       "      <td>40.488582</td>\n",
       "      <td>-80.033072</td>\n",
       "    </tr>\n",
       "    <tr>\n",
       "      <th>8</th>\n",
       "      <td>742572488</td>\n",
       "      <td>Brighton Heights Field 2</td>\n",
       "      <td>f</td>\n",
       "      <td>Brighton Heights Park</td>\n",
       "      <td>Diamond Only</td>\n",
       "      <td>0</td>\n",
       "      <td>Skinned</td>\n",
       "      <td>260.0</td>\n",
       "      <td>375.0</td>\n",
       "      <td>252.0</td>\n",
       "      <td>...</td>\n",
       "      <td>Brighton Heights</td>\n",
       "      <td>1</td>\n",
       "      <td>27</td>\n",
       "      <td>42003270800</td>\n",
       "      <td>1</td>\n",
       "      <td>27</td>\n",
       "      <td>1</td>\n",
       "      <td>1-14</td>\n",
       "      <td>40.488152</td>\n",
       "      <td>-80.032783</td>\n",
       "    </tr>\n",
       "    <tr>\n",
       "      <th>9</th>\n",
       "      <td>183023484</td>\n",
       "      <td>Brighton Heights Field 3 - John Merry</td>\n",
       "      <td>f</td>\n",
       "      <td>Brighton Heights Park</td>\n",
       "      <td>Diamond Only</td>\n",
       "      <td>0</td>\n",
       "      <td>Skinned</td>\n",
       "      <td>310.0</td>\n",
       "      <td>333.0</td>\n",
       "      <td>327.0</td>\n",
       "      <td>...</td>\n",
       "      <td>Brighton Heights</td>\n",
       "      <td>1</td>\n",
       "      <td>27</td>\n",
       "      <td>42003270800</td>\n",
       "      <td>1</td>\n",
       "      <td>27</td>\n",
       "      <td>1</td>\n",
       "      <td>1-14</td>\n",
       "      <td>40.487739</td>\n",
       "      <td>-80.032533</td>\n",
       "    </tr>\n",
       "  </tbody>\n",
       "</table>\n",
       "<p>10 rows × 21 columns</p>\n",
       "</div>"
      ],
      "text/plain": [
       "           id                                   name has_lights  \\\n",
       "0  1914615260                      Arlington Field 1          t   \n",
       "1  1151740179                              Armstrong          f   \n",
       "2   971009139                                Bandbox          f   \n",
       "3  1581124728                             Banksville          f   \n",
       "4  1052125703                      Banksville School          t   \n",
       "5   491692062                                 Bigbee          f   \n",
       "6   332143201                            Bill Stoltz          t   \n",
       "7   800768920               Brighton Heights Field 1          f   \n",
       "8   742572488               Brighton Heights Field 2          f   \n",
       "9   183023484  Brighton Heights Field 3 - John Merry          f   \n",
       "\n",
       "                                    park              field_usage  goal_post  \\\n",
       "0                         Arlington Park             Diamond Only          0   \n",
       "1                         Armstrong Park  Diamond and Rectangular          0   \n",
       "2                           Arsenal Park             Diamond Only          0   \n",
       "3                        Banksville Park             Diamond Only          0   \n",
       "4                 Banksville School Park             Diamond Only          0   \n",
       "5  Emerald View Park - Bigbee Field Park         Rectangular Only          0   \n",
       "6                         Arlington Park             Diamond Only          0   \n",
       "7                  Brighton Heights Park             Diamond Only          0   \n",
       "8                  Brighton Heights Park             Diamond Only          0   \n",
       "9                  Brighton Heights Park             Diamond Only          0   \n",
       "\n",
       "  infield_type  left_field_distance  center_field_distance  \\\n",
       "0      Skinned                160.0                  230.0   \n",
       "1      Skinned                240.0                  163.0   \n",
       "2      Skinned                135.0                  200.0   \n",
       "3      Skinned                304.0                  354.0   \n",
       "4      Skinned                180.0                  175.0   \n",
       "5          NaN                  NaN                    NaN   \n",
       "6      Skinned                210.0                  250.0   \n",
       "7      Skinned                170.0                  170.0   \n",
       "8      Skinned                260.0                  375.0   \n",
       "9      Skinned                310.0                  333.0   \n",
       "\n",
       "   right_field_distance  ...         neighborhood council_district  ward  \\\n",
       "0                 290.0  ...    South Side Slopes                3    16   \n",
       "1                 122.0  ...     South Side Flats                3    17   \n",
       "2                 150.0  ...  Lower Lawrenceville                7     6   \n",
       "3                 373.0  ...           Banksville                2    20   \n",
       "4                 185.0  ...           Banksville                2    20   \n",
       "5                   NaN  ...            Allentown                3    18   \n",
       "6                 240.0  ...    South Side Slopes                3    16   \n",
       "7                 170.0  ...     Brighton Heights                1    27   \n",
       "8                 252.0  ...     Brighton Heights                1    27   \n",
       "9                 327.0  ...     Brighton Heights                1    27   \n",
       "\n",
       "         tract  public_works_division  pli_division  police_zone  fire_zone  \\\n",
       "0  42003160800                      3            16            3       4-22   \n",
       "1  42003170200                      3            17            3       4-24   \n",
       "2  42003060300                      2             6            2        3-3   \n",
       "3  42003202300                      5            20            6        4-9   \n",
       "4  42003202300                      5            20            6        4-9   \n",
       "5  42003180300                      5            18            3        4-5   \n",
       "6  42003160800                      3            16            3       4-22   \n",
       "7  42003270800                      1            27            1       1-14   \n",
       "8  42003270800                      1            27            1       1-14   \n",
       "9  42003270800                      1            27            1       1-14   \n",
       "\n",
       "    latitude  longitude  \n",
       "0  40.418314 -79.975007  \n",
       "1  40.428074 -79.985662  \n",
       "2  40.466331 -79.961299  \n",
       "3  40.413923 -80.039940  \n",
       "4  40.407059 -80.037870  \n",
       "5  40.427849 -80.001223  \n",
       "6  40.418624 -79.974959  \n",
       "7  40.488582 -80.033072  \n",
       "8  40.488152 -80.032783  \n",
       "9  40.487739 -80.032533  \n",
       "\n",
       "[10 rows x 21 columns]"
      ]
     },
     "execution_count": 8,
     "metadata": {},
     "output_type": "execute_result"
    }
   ],
   "source": [
    "# Load the dataset\n",
    "playingFields = pd.read_csv(\"playingFields.csv\")\n",
    "playingFields.head(10)"
   ]
  },
  {
   "cell_type": "markdown",
   "metadata": {},
   "source": [
    "First, let's see which neighborhoods have fields listed in the data set"
   ]
  },
  {
   "cell_type": "code",
   "execution_count": 10,
   "metadata": {},
   "outputs": [
    {
     "name": "stdout",
     "output_type": "stream",
     "text": [
      "['South Side Slopes' 'South Side Flats' 'Lower Lawrenceville' 'Banksville'\n",
      " 'Allentown' 'Brighton Heights' 'Hazelwood' 'Lincoln-Lemington-Belmar'\n",
      " 'Windgap' 'Troy Hill' 'South Oakland' 'Brookline' 'Arlington'\n",
      " 'Mount Washington' 'Crafton Heights' 'East Hills' 'East Liberty'\n",
      " 'Highland Park' 'Squirrel Hill South' 'Upper Lawrenceville' 'Fineview'\n",
      " 'Regent Square' 'Garfield' 'Perry South' 'Perry North' 'Elliott'\n",
      " 'Beechview' 'Morningside' 'Central Lawrenceville' 'Bedford Dwellings'\n",
      " 'Terrace Village' 'Larimer' 'Beltzhoover' 'Greenfield' 'Manchester'\n",
      " 'Allegheny Center' 'Central Oakland' 'Lincoln Place' 'Sheraden'\n",
      " 'Shadyside' 'Spring Garden' 'Oakwood' 'Stanton Heights' 'Carrick'\n",
      " 'Marshall-Shadeland' 'Spring Hill-City View' 'West End' 'Polish Hill'\n",
      " 'Westwood' 'Squirrel Hill North' 'Homewood South']\n"
     ]
    },
    {
     "data": {
      "text/plain": [
       "51"
      ]
     },
     "execution_count": 10,
     "metadata": {},
     "output_type": "execute_result"
    }
   ],
   "source": [
    "playingFieldsneighborhoods = playingFields['neighborhood'].unique()\n",
    "print(playingFieldsneighborhoods)\n",
    "len(playingFieldsneighborhoods)"
   ]
  },
  {
   "cell_type": "markdown",
   "metadata": {},
   "source": [
    "We have 51 neighborhoods listed in the dataset."
   ]
  },
  {
   "cell_type": "markdown",
   "metadata": {},
   "source": [
    "To calculate the area for each field, we can approxinate it by multiplying the left field distance and right field distance"
   ]
  },
  {
   "cell_type": "markdown",
   "metadata": {},
   "source": [
    "<br>https://forum.wordreference.com/threads/down-the-left-field-line-baseball.3351745/"
   ]
  },
  {
   "cell_type": "markdown",
   "metadata": {},
   "source": [
    "![field](baseballfield.jpg)"
   ]
  },
  {
   "cell_type": "markdown",
   "metadata": {},
   "source": [
    "We'll loop through the data set and extract out the neighborhood and area of each field. To calculate the area, we multiply the left field distance and right field distance and make a new quality called \"fieldArea\""
   ]
  },
  {
   "cell_type": "code",
   "execution_count": 12,
   "metadata": {},
   "outputs": [
    {
     "data": {
      "text/html": [
       "<div>\n",
       "<style scoped>\n",
       "    .dataframe tbody tr th:only-of-type {\n",
       "        vertical-align: middle;\n",
       "    }\n",
       "\n",
       "    .dataframe tbody tr th {\n",
       "        vertical-align: top;\n",
       "    }\n",
       "\n",
       "    .dataframe thead th {\n",
       "        text-align: right;\n",
       "    }\n",
       "</style>\n",
       "<table border=\"1\" class=\"dataframe\">\n",
       "  <thead>\n",
       "    <tr style=\"text-align: right;\">\n",
       "      <th></th>\n",
       "      <th>neighborhood</th>\n",
       "      <th>fieldArea</th>\n",
       "    </tr>\n",
       "  </thead>\n",
       "  <tbody>\n",
       "    <tr>\n",
       "      <th>0</th>\n",
       "      <td>South Side Slopes</td>\n",
       "      <td>46400.0</td>\n",
       "    </tr>\n",
       "    <tr>\n",
       "      <th>1</th>\n",
       "      <td>South Side Flats</td>\n",
       "      <td>29280.0</td>\n",
       "    </tr>\n",
       "    <tr>\n",
       "      <th>2</th>\n",
       "      <td>Lower Lawrenceville</td>\n",
       "      <td>20250.0</td>\n",
       "    </tr>\n",
       "    <tr>\n",
       "      <th>3</th>\n",
       "      <td>Banksville</td>\n",
       "      <td>113392.0</td>\n",
       "    </tr>\n",
       "    <tr>\n",
       "      <th>4</th>\n",
       "      <td>Banksville</td>\n",
       "      <td>33300.0</td>\n",
       "    </tr>\n",
       "    <tr>\n",
       "      <th>...</th>\n",
       "      <td>...</td>\n",
       "      <td>...</td>\n",
       "    </tr>\n",
       "    <tr>\n",
       "      <th>109</th>\n",
       "      <td>Westwood</td>\n",
       "      <td>57600.0</td>\n",
       "    </tr>\n",
       "    <tr>\n",
       "      <th>110</th>\n",
       "      <td>Squirrel Hill North</td>\n",
       "      <td>44756.0</td>\n",
       "    </tr>\n",
       "    <tr>\n",
       "      <th>111</th>\n",
       "      <td>Homewood South</td>\n",
       "      <td>82125.0</td>\n",
       "    </tr>\n",
       "    <tr>\n",
       "      <th>112</th>\n",
       "      <td>South Side Slopes</td>\n",
       "      <td>37950.0</td>\n",
       "    </tr>\n",
       "    <tr>\n",
       "      <th>113</th>\n",
       "      <td>Mount Washington</td>\n",
       "      <td>NaN</td>\n",
       "    </tr>\n",
       "  </tbody>\n",
       "</table>\n",
       "<p>114 rows × 2 columns</p>\n",
       "</div>"
      ],
      "text/plain": [
       "            neighborhood  fieldArea\n",
       "0      South Side Slopes    46400.0\n",
       "1       South Side Flats    29280.0\n",
       "2    Lower Lawrenceville    20250.0\n",
       "3             Banksville   113392.0\n",
       "4             Banksville    33300.0\n",
       "..                   ...        ...\n",
       "109             Westwood    57600.0\n",
       "110  Squirrel Hill North    44756.0\n",
       "111       Homewood South    82125.0\n",
       "112    South Side Slopes    37950.0\n",
       "113     Mount Washington        NaN\n",
       "\n",
       "[114 rows x 2 columns]"
      ]
     },
     "execution_count": 12,
     "metadata": {},
     "output_type": "execute_result"
    }
   ],
   "source": [
    "sizeOfFields_info_dictionary = {'width':playingFields.left_field_distance, 'length':playingFields.right_field_distance, 'neighborhood':playingFields.neighborhood}\n",
    "sizeofFields = pd.DataFrame(sizeOfFields_info_dictionary)\n",
    "\n",
    "# calculate the area \n",
    "area = []\n",
    "for index, row in sizeofFields.iterrows():\n",
    "    fieldWidth = row['width']\n",
    "    fieldLength = row['length']\n",
    "    neighborhoodName = row['neighborhood']\n",
    "    calculation = fieldWidth * fieldLength \n",
    "    area.append({'neighborhood':neighborhoodName, 'fieldArea':calculation}) \n",
    "fieldAreas = pd.DataFrame(area)\n",
    "fieldAreas"
   ]
  },
  {
   "cell_type": "markdown",
   "metadata": {},
   "source": [
    "Since we have the area for each field, we'll sum up the area of all the fields for each neighborhood!"
   ]
  },
  {
   "cell_type": "code",
   "execution_count": 16,
   "metadata": {},
   "outputs": [
    {
     "name": "stdout",
     "output_type": "stream",
     "text": [
      "neighborhood\n",
      "Brighton Heights            339082.0\n",
      "Brookline                   229900.0\n",
      "South Side Slopes           219300.0\n",
      "Regent Square               205136.0\n",
      "Shadyside                   200270.0\n",
      "Carrick                     193480.0\n",
      "Highland Park               182629.0\n",
      "Morningside                 176605.0\n",
      "Mount Washington            175750.0\n",
      "Greenfield                  155165.0\n",
      "Troy Hill                   153106.0\n",
      "Crafton Heights             147125.0\n",
      "Banksville                  146692.0\n",
      "Beltzhoover                 141650.0\n",
      "Elliott                     141250.0\n",
      "Sheraden                    139800.0\n",
      "Lower Lawrenceville         135201.0\n",
      "Westwood                    122489.0\n",
      "Terrace Village             122425.0\n",
      "Allegheny Center            121200.0\n",
      "Spring Hill-City View       120050.0\n",
      "Bedford Dwellings           118800.0\n",
      "Beechview                   117175.0\n",
      "Windgap                     114375.0\n",
      "Central Lawrenceville       114100.0\n",
      "Hazelwood                   107379.0\n",
      "Polish Hill                  98185.0\n",
      "Stanton Heights              97344.0\n",
      "South Oakland                90000.0\n",
      "Manchester                   88960.0\n",
      "Arlington                    86432.0\n",
      "Homewood South               82125.0\n",
      "Lincoln-Lemington-Belmar     70000.0\n",
      "East Hills                   65025.0\n",
      "Fineview                     64116.0\n",
      "South Side Flats             54080.0\n",
      "Lincoln Place                52724.0\n",
      "Marshall-Shadeland           46860.0\n",
      "Squirrel Hill North          44756.0\n",
      "East Liberty                 37000.0\n",
      "Squirrel Hill South          35910.0\n",
      "Central Oakland              33855.0\n",
      "Upper Lawrenceville          32940.0\n",
      "Oakwood                      32400.0\n",
      "Perry North                  31960.0\n",
      "Spring Garden                27125.0\n",
      "Garfield                         0.0\n",
      "Larimer                          0.0\n",
      "West End                         0.0\n",
      "Perry South                      0.0\n",
      "Allentown                        0.0\n",
      "Name: fieldArea, dtype: float64\n"
     ]
    },
    {
     "data": {
      "text/plain": [
       "<matplotlib.axes._subplots.AxesSubplot at 0x7f304f3846d0>"
      ]
     },
     "execution_count": 16,
     "metadata": {},
     "output_type": "execute_result"
    },
    {
     "data": {
      "image/png": "[encoded data removed]",
      "text/plain": [
       "<Figure size 432x288 with 1 Axes>"
      ]
     },
     "metadata": {
      "needs_background": "light"
     },
     "output_type": "display_data"
    }
   ],
   "source": [
    "areaOfFieldsPerNeighborhood = fieldAreas.groupby('neighborhood').sum()['fieldArea'].sort_values(ascending=False)\n",
    "print(areaOfFieldsPerNeighborhood)\n",
    "areaOfFieldsPerNeighborhood.plot(x='Neighborhoods in Pittsburgh', y='Number of Speedbumps', kind='bar')"
   ]
  },
  {
   "cell_type": "markdown",
   "metadata": {},
   "source": [
    "Let's put it on a map to see it visually!"
   ]
  },
  {
   "cell_type": "code",
   "execution_count": 17,
   "metadata": {},
   "outputs": [],
   "source": [
    "neighborhoods = geopandas.read_file(\"Neighborhoods/Neighborhoods_.shp\") # read in the shapefile\n",
    "fieldArea = neighborhoods.merge(areaOfFieldsPerNeighborhood, how='left', left_on='hood', right_on='neighborhood')"
   ]
  },
  {
   "cell_type": "code",
   "execution_count": 18,
   "metadata": {},
   "outputs": [
    {
     "data": {
      "text/plain": [
       "<matplotlib.axes._subplots.AxesSubplot at 0x7f304cb33250>"
      ]
     },
     "execution_count": 18,
     "metadata": {},
     "output_type": "execute_result"
    },
    {
     "data": {
      "image/png": "[encoded data removed]",
      "text/plain": [
       "<Figure size 1080x720 with 2 Axes>"
      ]
     },
     "metadata": {
      "needs_background": "light"
     },
     "output_type": "display_data"
    }
   ],
   "source": [
    "fieldArea.plot(column='fieldArea', # set the data to be used for coloring\n",
    "               cmap='BuGn',              # choose a color palette\n",
    "               edgecolor=\"white\",        # outline the districts in white\n",
    "               legend=True,              # show the legend\n",
    "               legend_kwds={'label': \"Number of Steps\"}, # label the legend\n",
    "               figsize=(15, 10),         # set the size\n",
    "               missing_kwds={\"color\": \"lightgrey\"} # set disctricts with no data to gray\n",
    "               )"
   ]
  },
  {
   "cell_type": "markdown",
   "metadata": {},
   "source": [
    "It looks like with this metric, Brighton Heights is the best neighborhood to be in when trying to set up camp from aliens!"
   ]
  },
  {
   "cell_type": "markdown",
   "metadata": {},
   "source": [
    "Now we're going to normalize the metric from the highest one so that we can add the metrics of the number of speed humps and the field area for each neighborhood with equal weight. "
   ]
  },
  {
   "cell_type": "code",
   "execution_count": 22,
   "metadata": {},
   "outputs": [
    {
     "name": "stdout",
     "output_type": "stream",
     "text": [
      "{'Squirrel Hill South': 1.0, 'Carrick': 0.5, 'Polish Hill': 0.3333333333333333, 'North Oakland': 0.3333333333333333, 'South Side Slopes': 0.2222222222222222, 'Brookline': 0.2222222222222222, 'Upper Hill': 0.2222222222222222, 'Homewood South': 0.2222222222222222, 'Perry North': 0.2222222222222222, 'Squirrel Hill North': 0.16666666666666666, 'South Side Flats': 0.16666666666666666, 'Mount Washington': 0.16666666666666666, 'Garfield': 0.16666666666666666, 'Bloomfield': 0.16666666666666666, 'Highland Park': 0.1111111111111111, 'Central Oakland': 0.05555555555555555, 'Overbrook': 0.05555555555555555, 'Stanton Heights': 0.05555555555555555}\n"
     ]
    }
   ],
   "source": [
    "# normalizing based on the highest, speed bumps\n",
    "speedBumpsPerNeighborhoodLIST = speedBumpsPerNeighborhood.reset_index().values.tolist()\n",
    "normalizedSpeedBumps = {} \n",
    "highestSpeedBump = 18\n",
    "for i in speedBumpsPerNeighborhoodLIST:\n",
    "    normalizedSpeedBumps[i[0]] = i[1] / highestSpeedBump    \n",
    "print(normalizedSpeedBumps)"
   ]
  },
  {
   "cell_type": "code",
   "execution_count": 23,
   "metadata": {},
   "outputs": [
    {
     "name": "stdout",
     "output_type": "stream",
     "text": [
      "{'Brighton Heights': 1.0, 'Brookline': 0.6780070897305077, 'South Side Slopes': 0.6467462147799058, 'Regent Square': 0.6049746079119505, 'Shadyside': 0.5906240968261365, 'Carrick': 0.5705994420228735, 'Highland Park': 0.5385983331465545, 'Morningside': 0.5208327189293446, 'Mount Washington': 0.5183112049592724, 'Greenfield': 0.4576031756330327, 'Troy Hill': 0.45153089813083563, 'Crafton Heights': 0.43389209689691577, 'Banksville': 0.4326151196465752, 'Beltzhoover': 0.41774556007101527, 'Elliott': 0.41656590441250196, 'Sheraden': 0.41228965265039136, 'Lower Lawrenceville': 0.3987265617166349, 'Westwood': 0.3612371048890829, 'Terrace Village': 0.36104835998372076, 'Allegheny Center': 0.35743566452952386, 'Spring Hill-City View': 0.35404415451129817, 'Bedford Dwellings': 0.35035773057844416, 'Beechview': 0.34556537946573396, 'Windgap': 0.337307789856141, 'Central Lawrenceville': 0.3364967765909131, 'Hazelwood': 0.3166756123887437, 'Polish Hill': 0.289561227077816, 'Stanton Heights': 0.2870810010557918, 'South Oakland': 0.265422523165488, 'Manchester': 0.2623554184533535, 'Arlington': 0.25489999469154956, 'Homewood South': 0.2421980523885078, 'Lincoln-Lemington-Belmar': 0.206439740239824, 'East Hills': 0.19176777298706507, 'Fineview': 0.18908700550309365, 'South Side Flats': 0.15948944503099546, 'Lincoln Place': 0.15549041234863542, 'Marshall-Shadeland': 0.13819666039483075, 'Squirrel Hill North': 0.13199167163105088, 'East Liberty': 0.1091181484124784, 'Squirrel Hill South': 0.10590358674302972, 'Central Oakland': 0.09984310579741773, 'Upper Lawrenceville': 0.0971446434785686, 'Oakwood': 0.09555210833957568, 'Perry North': 0.09425448711521107, 'Spring Garden': 0.0799953993429318, 'Garfield': 0.0, 'Larimer': 0.0, 'West End': 0.0, 'Perry South': 0.0, 'Allentown': 0.0}\n"
     ]
    }
   ],
   "source": [
    "# normalizing based on the highest, field area \n",
    "areaOfFieldsPerNeighborhoodLIST = areaOfFieldsPerNeighborhood.reset_index().values.tolist()\n",
    "normalizedareaOfFields = {}\n",
    "highestArea = 339082.0\n",
    "for i in areaOfFieldsPerNeighborhoodLIST:\n",
    "    normalizedareaOfFields[i[0]] = i[1] / highestArea    \n",
    "print(normalizedareaOfFields)"
   ]
  },
  {
   "cell_type": "markdown",
   "metadata": {},
   "source": [
    "Now we'll add the metrics together!"
   ]
  },
  {
   "cell_type": "code",
   "execution_count": 25,
   "metadata": {},
   "outputs": [
    {
     "name": "stdout",
     "output_type": "stream",
     "text": [
      "{'Squirrel Hill South': 1.1059035867430298, 'Carrick': 1.0705994420228735, 'Polish Hill': 0.6228945604111493, 'South Side Slopes': 0.868968437002128, 'Brookline': 0.9002293119527299, 'Homewood South': 0.46442027461073, 'Perry North': 0.31647670933743327, 'Squirrel Hill North': 0.29865833829771754, 'South Side Flats': 0.3261561116976621, 'Mount Washington': 0.684977871625939, 'Garfield': 0.16666666666666666, 'Highland Park': 0.6497094442576656, 'Central Oakland': 0.15539866135297328, 'Stanton Heights': 0.3426365566113474}\n"
     ]
    }
   ],
   "source": [
    "# normalizing based on the highest, field area and speedbumps \n",
    "normalizedSpeedBumpsArea = {}\n",
    "for s in normalizedSpeedBumps:\n",
    "    if s in normalizedareaOfFields:\n",
    "        normalizedSpeedBumpsArea[s] = normalizedSpeedBumps[s] + normalizedareaOfFields[s]\n",
    "final = {k: v for k, v in sorted(normalizedSpeedBumpsArea.items(), key=lambda item: item[1])}\n",
    "print(normalizedSpeedBumpsArea)"
   ]
  },
  {
   "cell_type": "markdown",
   "metadata": {},
   "source": [
    "By combining the metrics, we can see that Squirrel Hill South is the best neighborhod when it comes to running away from aliens and setting up shelter from aliens!"
   ]
  },
  {
   "cell_type": "markdown",
   "metadata": {},
   "source": [
    "We can see from the data analysis that the drawbacks to the data is that there are only 18 neighborhoods that have speed humps recorded in the dataset versus 51 that have recorded playing fields. This means that there are 33 neighborhoods that had to be cut in order to combine the metrics since it "
   ]
  }
 ],
 "metadata": {
  "kernelspec": {
   "display_name": "Python 3",
   "language": "python",
   "name": "python3"
  },
  "language_info": {
   "codemirror_mode": {
    "name": "ipython",
    "version": 3
   },
   "file_extension": ".py",
   "mimetype": "text/x-python",
   "name": "python",
   "nbconvert_exporter": "python",
   "pygments_lexer": "ipython3",
   "version": "3.8.3"
  }
 },
 "nbformat": 4,
 "nbformat_minor": 4
}
