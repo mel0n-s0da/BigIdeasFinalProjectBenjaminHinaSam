{
 "cells": [
  {
   "cell_type": "markdown",
   "metadata": {},
   "source": [
    "During the early moments of the Alien Invasion, it will be nescessary to be able to run from the aliens until the human resistance has formed. As aliens typically levitate, and their speeds are unaffected by changes in elevation, stairs serve as a huge detriment for fleeing humans. Having to climb a lengthy set of stairs could prove the difference between escaping a pursuing alien and being captured. Therefore, for this sub-metric, we determine the neighborhood with the least amount of stairs that would provide the best enviornment for running for your life."
   ]
  },
  {
   "cell_type": "code",
   "execution_count": 3,
   "metadata": {},
   "outputs": [],
   "source": [
    "#Loading data\n",
    "import pandas as pd\n",
    "Stairs = pd.read_csv(\"stepstats.csv\", index_col=\"id\")"
   ]
  },
  {
   "cell_type": "code",
   "execution_count": 4,
   "metadata": {},
   "outputs": [
    {
     "data": {
      "text/html": [
       "<div>\n",
       "<style scoped>\n",
       "    .dataframe tbody tr th:only-of-type {\n",
       "        vertical-align: middle;\n",
       "    }\n",
       "\n",
       "    .dataframe tbody tr th {\n",
       "        vertical-align: top;\n",
       "    }\n",
       "\n",
       "    .dataframe thead th {\n",
       "        text-align: right;\n",
       "    }\n",
       "</style>\n",
       "<table border=\"1\" class=\"dataframe\">\n",
       "  <thead>\n",
       "    <tr style=\"text-align: right;\">\n",
       "      <th></th>\n",
       "      <th>name</th>\n",
       "      <th>maintenance_responsibility</th>\n",
       "      <th>installed</th>\n",
       "      <th>material</th>\n",
       "      <th>length</th>\n",
       "      <th>number_of_steps</th>\n",
       "      <th>schools_count</th>\n",
       "      <th>school_score</th>\n",
       "      <th>total_population</th>\n",
       "      <th>transit_rider_count</th>\n",
       "      <th>...</th>\n",
       "      <th>neighborhood</th>\n",
       "      <th>council_district</th>\n",
       "      <th>ward</th>\n",
       "      <th>tract</th>\n",
       "      <th>public_works_division</th>\n",
       "      <th>pli_division</th>\n",
       "      <th>police_zone</th>\n",
       "      <th>fire_zone</th>\n",
       "      <th>latitude</th>\n",
       "      <th>longitude</th>\n",
       "    </tr>\n",
       "    <tr>\n",
       "      <th>id</th>\n",
       "      <th></th>\n",
       "      <th></th>\n",
       "      <th></th>\n",
       "      <th></th>\n",
       "      <th></th>\n",
       "      <th></th>\n",
       "      <th></th>\n",
       "      <th></th>\n",
       "      <th></th>\n",
       "      <th></th>\n",
       "      <th></th>\n",
       "      <th></th>\n",
       "      <th></th>\n",
       "      <th></th>\n",
       "      <th></th>\n",
       "      <th></th>\n",
       "      <th></th>\n",
       "      <th></th>\n",
       "      <th></th>\n",
       "      <th></th>\n",
       "      <th></th>\n",
       "    </tr>\n",
       "  </thead>\n",
       "  <tbody>\n",
       "    <tr>\n",
       "      <th>1098705666</th>\n",
       "      <td>Belle Isle Ave from Woodward Ave to Plainview Ave</td>\n",
       "      <td>4th Division</td>\n",
       "      <td>1947-01-01</td>\n",
       "      <td>Concrete</td>\n",
       "      <td>183.0</td>\n",
       "      <td>14.0</td>\n",
       "      <td>0.0</td>\n",
       "      <td>100.0</td>\n",
       "      <td>726.0</td>\n",
       "      <td>119.0</td>\n",
       "      <td>...</td>\n",
       "      <td>Brookline</td>\n",
       "      <td>4.0</td>\n",
       "      <td>19.0</td>\n",
       "      <td>42003191900</td>\n",
       "      <td>5.0</td>\n",
       "      <td>19.0</td>\n",
       "      <td>6.0</td>\n",
       "      <td>4-26</td>\n",
       "      <td>40.400006</td>\n",
       "      <td>-80.021970</td>\n",
       "    </tr>\n",
       "    <tr>\n",
       "      <th>1525535447</th>\n",
       "      <td>Thornton St and Surban Ave to Sherwood Ave</td>\n",
       "      <td>5th Division</td>\n",
       "      <td>1960-01-01</td>\n",
       "      <td>Concrete</td>\n",
       "      <td>208.0</td>\n",
       "      <td>41.0</td>\n",
       "      <td>2.0</td>\n",
       "      <td>7.0</td>\n",
       "      <td>750.0</td>\n",
       "      <td>61.0</td>\n",
       "      <td>...</td>\n",
       "      <td>Sheraden</td>\n",
       "      <td>2.0</td>\n",
       "      <td>20.0</td>\n",
       "      <td>42003562500</td>\n",
       "      <td>5.0</td>\n",
       "      <td>20.0</td>\n",
       "      <td>6.0</td>\n",
       "      <td>1-16</td>\n",
       "      <td>40.455268</td>\n",
       "      <td>-80.057512</td>\n",
       "    </tr>\n",
       "    <tr>\n",
       "      <th>2043525698</th>\n",
       "      <td>Glen Mawr St from W Carson St</td>\n",
       "      <td>5th Division</td>\n",
       "      <td>1949-01-01</td>\n",
       "      <td>Concrete</td>\n",
       "      <td>269.0</td>\n",
       "      <td>32.0</td>\n",
       "      <td>NaN</td>\n",
       "      <td>NaN</td>\n",
       "      <td>NaN</td>\n",
       "      <td>NaN</td>\n",
       "      <td>...</td>\n",
       "      <td>Esplen</td>\n",
       "      <td>2.0</td>\n",
       "      <td>20.0</td>\n",
       "      <td>42003562500</td>\n",
       "      <td>5.0</td>\n",
       "      <td>20.0</td>\n",
       "      <td>6.0</td>\n",
       "      <td>1-27</td>\n",
       "      <td>40.454032</td>\n",
       "      <td>-80.040924</td>\n",
       "    </tr>\n",
       "    <tr>\n",
       "      <th>39528215</th>\n",
       "      <td>Wertz Way from Ella St to Wertz Way</td>\n",
       "      <td>2nd Division</td>\n",
       "      <td>NaN</td>\n",
       "      <td>Concrete</td>\n",
       "      <td>92.0</td>\n",
       "      <td>14.0</td>\n",
       "      <td>0.0</td>\n",
       "      <td>100.0</td>\n",
       "      <td>943.0</td>\n",
       "      <td>209.0</td>\n",
       "      <td>...</td>\n",
       "      <td>Bloomfield</td>\n",
       "      <td>7.0</td>\n",
       "      <td>8.0</td>\n",
       "      <td>42003080200</td>\n",
       "      <td>2.0</td>\n",
       "      <td>8.0</td>\n",
       "      <td>5.0</td>\n",
       "      <td>3-1</td>\n",
       "      <td>40.460368</td>\n",
       "      <td>-79.953813</td>\n",
       "    </tr>\n",
       "    <tr>\n",
       "      <th>1692813899</th>\n",
       "      <td>Arsenal Park 6</td>\n",
       "      <td>Parks - Northeast</td>\n",
       "      <td>NaN</td>\n",
       "      <td>Stone</td>\n",
       "      <td>NaN</td>\n",
       "      <td>NaN</td>\n",
       "      <td>NaN</td>\n",
       "      <td>NaN</td>\n",
       "      <td>NaN</td>\n",
       "      <td>NaN</td>\n",
       "      <td>...</td>\n",
       "      <td>Lower Lawrenceville</td>\n",
       "      <td>7.0</td>\n",
       "      <td>6.0</td>\n",
       "      <td>42003060300</td>\n",
       "      <td>2.0</td>\n",
       "      <td>6.0</td>\n",
       "      <td>2.0</td>\n",
       "      <td>3-3</td>\n",
       "      <td>40.466610</td>\n",
       "      <td>-79.960861</td>\n",
       "    </tr>\n",
       "    <tr>\n",
       "      <th>986328071</th>\n",
       "      <td>Jillson St from Kenilworth to Plainview Ave</td>\n",
       "      <td>4th Division</td>\n",
       "      <td>NaN</td>\n",
       "      <td>Concrete</td>\n",
       "      <td>113.0</td>\n",
       "      <td>5.0</td>\n",
       "      <td>NaN</td>\n",
       "      <td>NaN</td>\n",
       "      <td>NaN</td>\n",
       "      <td>NaN</td>\n",
       "      <td>...</td>\n",
       "      <td>Brookline</td>\n",
       "      <td>4.0</td>\n",
       "      <td>19.0</td>\n",
       "      <td>42003191900</td>\n",
       "      <td>5.0</td>\n",
       "      <td>19.0</td>\n",
       "      <td>6.0</td>\n",
       "      <td>4-26</td>\n",
       "      <td>40.396156</td>\n",
       "      <td>-80.026233</td>\n",
       "    </tr>\n",
       "    <tr>\n",
       "      <th>1475103503</th>\n",
       "      <td>E  Woodford Ave from Fromm Way to Hazeldell St</td>\n",
       "      <td>4th Division</td>\n",
       "      <td>NaN</td>\n",
       "      <td>Concrete</td>\n",
       "      <td>151.0</td>\n",
       "      <td>61.0</td>\n",
       "      <td>NaN</td>\n",
       "      <td>NaN</td>\n",
       "      <td>NaN</td>\n",
       "      <td>NaN</td>\n",
       "      <td>...</td>\n",
       "      <td>Carrick</td>\n",
       "      <td>4.0</td>\n",
       "      <td>29.0</td>\n",
       "      <td>42003290200</td>\n",
       "      <td>3.0</td>\n",
       "      <td>29.0</td>\n",
       "      <td>3.0</td>\n",
       "      <td>4-12</td>\n",
       "      <td>40.393272</td>\n",
       "      <td>-79.984850</td>\n",
       "    </tr>\n",
       "    <tr>\n",
       "      <th>1428879814</th>\n",
       "      <td>St Thomas St from Hackstown St to Monastery St</td>\n",
       "      <td>4th Division</td>\n",
       "      <td>1947-01-01</td>\n",
       "      <td>Concrete</td>\n",
       "      <td>100.0</td>\n",
       "      <td>6.0</td>\n",
       "      <td>1.0</td>\n",
       "      <td>6.0</td>\n",
       "      <td>852.0</td>\n",
       "      <td>75.0</td>\n",
       "      <td>...</td>\n",
       "      <td>South Side Slopes</td>\n",
       "      <td>3.0</td>\n",
       "      <td>17.0</td>\n",
       "      <td>42003170600</td>\n",
       "      <td>3.0</td>\n",
       "      <td>17.0</td>\n",
       "      <td>3.0</td>\n",
       "      <td>4-3</td>\n",
       "      <td>40.424012</td>\n",
       "      <td>-79.985317</td>\n",
       "    </tr>\n",
       "    <tr>\n",
       "      <th>351278790</th>\n",
       "      <td>Highland Park 3</td>\n",
       "      <td>Parks - Northeast</td>\n",
       "      <td>NaN</td>\n",
       "      <td>Stone</td>\n",
       "      <td>NaN</td>\n",
       "      <td>NaN</td>\n",
       "      <td>NaN</td>\n",
       "      <td>NaN</td>\n",
       "      <td>NaN</td>\n",
       "      <td>NaN</td>\n",
       "      <td>...</td>\n",
       "      <td>Highland Park</td>\n",
       "      <td>7.0</td>\n",
       "      <td>11.0</td>\n",
       "      <td>42003980100</td>\n",
       "      <td>2.0</td>\n",
       "      <td>11.0</td>\n",
       "      <td>5.0</td>\n",
       "      <td>3-9</td>\n",
       "      <td>40.479478</td>\n",
       "      <td>-79.911912</td>\n",
       "    </tr>\n",
       "    <tr>\n",
       "      <th>209043195</th>\n",
       "      <td>Delmont Ave from Climax St to Loyal Way</td>\n",
       "      <td>4th Division</td>\n",
       "      <td>1948-01-01</td>\n",
       "      <td>Concrete</td>\n",
       "      <td>108.0</td>\n",
       "      <td>NaN</td>\n",
       "      <td>NaN</td>\n",
       "      <td>NaN</td>\n",
       "      <td>NaN</td>\n",
       "      <td>NaN</td>\n",
       "      <td>...</td>\n",
       "      <td>Beltzhoover</td>\n",
       "      <td>3.0</td>\n",
       "      <td>18.0</td>\n",
       "      <td>42003562400</td>\n",
       "      <td>5.0</td>\n",
       "      <td>18.0</td>\n",
       "      <td>3.0</td>\n",
       "      <td>4-16</td>\n",
       "      <td>40.419218</td>\n",
       "      <td>-80.004199</td>\n",
       "    </tr>\n",
       "  </tbody>\n",
       "</table>\n",
       "<p>10 rows × 24 columns</p>\n",
       "</div>"
      ],
      "text/plain": [
       "                                                         name  \\\n",
       "id                                                              \n",
       "1098705666  Belle Isle Ave from Woodward Ave to Plainview Ave   \n",
       "1525535447         Thornton St and Surban Ave to Sherwood Ave   \n",
       "2043525698                      Glen Mawr St from W Carson St   \n",
       "39528215                  Wertz Way from Ella St to Wertz Way   \n",
       "1692813899                                     Arsenal Park 6   \n",
       "986328071         Jillson St from Kenilworth to Plainview Ave   \n",
       "1475103503     E  Woodford Ave from Fromm Way to Hazeldell St   \n",
       "1428879814     St Thomas St from Hackstown St to Monastery St   \n",
       "351278790                                     Highland Park 3   \n",
       "209043195             Delmont Ave from Climax St to Loyal Way   \n",
       "\n",
       "           maintenance_responsibility   installed  material  length  \\\n",
       "id                                                                    \n",
       "1098705666               4th Division  1947-01-01  Concrete   183.0   \n",
       "1525535447               5th Division  1960-01-01  Concrete   208.0   \n",
       "2043525698               5th Division  1949-01-01  Concrete   269.0   \n",
       "39528215                 2nd Division         NaN  Concrete    92.0   \n",
       "1692813899          Parks - Northeast         NaN     Stone     NaN   \n",
       "986328071                4th Division         NaN  Concrete   113.0   \n",
       "1475103503               4th Division         NaN  Concrete   151.0   \n",
       "1428879814               4th Division  1947-01-01  Concrete   100.0   \n",
       "351278790           Parks - Northeast         NaN     Stone     NaN   \n",
       "209043195                4th Division  1948-01-01  Concrete   108.0   \n",
       "\n",
       "            number_of_steps  schools_count  school_score  total_population  \\\n",
       "id                                                                           \n",
       "1098705666             14.0            0.0         100.0             726.0   \n",
       "1525535447             41.0            2.0           7.0             750.0   \n",
       "2043525698             32.0            NaN           NaN               NaN   \n",
       "39528215               14.0            0.0         100.0             943.0   \n",
       "1692813899              NaN            NaN           NaN               NaN   \n",
       "986328071               5.0            NaN           NaN               NaN   \n",
       "1475103503             61.0            NaN           NaN               NaN   \n",
       "1428879814              6.0            1.0           6.0             852.0   \n",
       "351278790               NaN            NaN           NaN               NaN   \n",
       "209043195               NaN            NaN           NaN               NaN   \n",
       "\n",
       "            transit_rider_count  ...         neighborhood  council_district  \\\n",
       "id                               ...                                          \n",
       "1098705666                119.0  ...            Brookline               4.0   \n",
       "1525535447                 61.0  ...             Sheraden               2.0   \n",
       "2043525698                  NaN  ...               Esplen               2.0   \n",
       "39528215                  209.0  ...           Bloomfield               7.0   \n",
       "1692813899                  NaN  ...  Lower Lawrenceville               7.0   \n",
       "986328071                   NaN  ...            Brookline               4.0   \n",
       "1475103503                  NaN  ...              Carrick               4.0   \n",
       "1428879814                 75.0  ...    South Side Slopes               3.0   \n",
       "351278790                   NaN  ...        Highland Park               7.0   \n",
       "209043195                   NaN  ...          Beltzhoover               3.0   \n",
       "\n",
       "            ward        tract public_works_division  pli_division  \\\n",
       "id                                                                  \n",
       "1098705666  19.0  42003191900                   5.0          19.0   \n",
       "1525535447  20.0  42003562500                   5.0          20.0   \n",
       "2043525698  20.0  42003562500                   5.0          20.0   \n",
       "39528215     8.0  42003080200                   2.0           8.0   \n",
       "1692813899   6.0  42003060300                   2.0           6.0   \n",
       "986328071   19.0  42003191900                   5.0          19.0   \n",
       "1475103503  29.0  42003290200                   3.0          29.0   \n",
       "1428879814  17.0  42003170600                   3.0          17.0   \n",
       "351278790   11.0  42003980100                   2.0          11.0   \n",
       "209043195   18.0  42003562400                   5.0          18.0   \n",
       "\n",
       "            police_zone  fire_zone   latitude  longitude  \n",
       "id                                                        \n",
       "1098705666          6.0       4-26  40.400006 -80.021970  \n",
       "1525535447          6.0       1-16  40.455268 -80.057512  \n",
       "2043525698          6.0       1-27  40.454032 -80.040924  \n",
       "39528215            5.0        3-1  40.460368 -79.953813  \n",
       "1692813899          2.0        3-3  40.466610 -79.960861  \n",
       "986328071           6.0       4-26  40.396156 -80.026233  \n",
       "1475103503          3.0       4-12  40.393272 -79.984850  \n",
       "1428879814          3.0        4-3  40.424012 -79.985317  \n",
       "351278790           5.0        3-9  40.479478 -79.911912  \n",
       "209043195           3.0       4-16  40.419218 -80.004199  \n",
       "\n",
       "[10 rows x 24 columns]"
      ]
     },
     "execution_count": 4,
     "metadata": {},
     "output_type": "execute_result"
    }
   ],
   "source": [
    "#Sample some data\n",
    "Stairs.sample(10)"
   ]
  },
  {
   "cell_type": "markdown",
   "metadata": {},
   "source": [
    "In order to guarantee a successful getaway from hostile alien forces, it is important to consider the outdoor stairways found in each neighborhood. Having to climb stairs, instead of running away on flat road, could make community members more suscepitble to the effects of an alien invasion. In this notebook, we will consider both how often a neighborhood resident might encounter a stairway during their getaway and also how many stairs they will encounter on average."
   ]
  },
  {
   "cell_type": "code",
   "execution_count": 57,
   "metadata": {},
   "outputs": [
    {
     "data": {
      "text/plain": [
       "Mount Oliver Borough      1\n",
       "Chartiers City            1\n",
       "Manchester                1\n",
       "East Liberty              1\n",
       "Larimer                   1\n",
       "                       ... \n",
       "Greenfield               40\n",
       "Beechview                42\n",
       "Perry North              47\n",
       "Mount Washington         53\n",
       "South Side Slopes       108\n",
       "Name: neighborhood, Length: 79, dtype: int64"
      ]
     },
     "execution_count": 57,
     "metadata": {},
     "output_type": "execute_result"
    }
   ],
   "source": [
    "#First, let's view the number of stairways per community\n",
    "Stairs['neighborhood'].value_counts().sort_values(ascending=True)"
   ]
  },
  {
   "cell_type": "markdown",
   "metadata": {},
   "source": [
    "Great for us and bad for the aliens, there seem to be a fair number of neighborhoods with only one recorded stairwell. Let's get a better list of which neighborhoods only include a singular stairwell."
   ]
  },
  {
   "cell_type": "code",
   "execution_count": 5,
   "metadata": {},
   "outputs": [
    {
     "data": {
      "text/plain": [
       "['Mount Oliver Borough',\n",
       " 'Strip District',\n",
       " 'Chartiers City',\n",
       " 'Larimer',\n",
       " 'Bluff',\n",
       " 'Manchester',\n",
       " 'East Liberty']"
      ]
     },
     "execution_count": 5,
     "metadata": {},
     "output_type": "execute_result"
    }
   ],
   "source": [
    "#display a list of single-staired neighborhoods\n",
    "low_stair_neighborhoods = Stairs.groupby('neighborhood').filter(lambda x: x['neighborhood'].value_counts() == 1)\n",
    "low_stair_neighborhoods['neighborhood'].values.tolist()"
   ]
  },
  {
   "cell_type": "markdown",
   "metadata": {},
   "source": [
    "Ok, so we have a list of 7 neighborhoods that all only have one documented stairwell. Since we can't have a 7 way tie, let us take a closer look at each stairwell. To start, we can view how many stairs. For the purposes of panicked fleeing from UFO's less steps are preferred."
   ]
  },
  {
   "cell_type": "code",
   "execution_count": 6,
   "metadata": {},
   "outputs": [
    {
     "data": {
      "text/plain": [
       "<matplotlib.axes._subplots.AxesSubplot at 0x7fe3454c7970>"
      ]
     },
     "execution_count": 6,
     "metadata": {},
     "output_type": "execute_result"
    },
    {
     "data": {
      "image/png": "[encoded data removed]",
      "text/plain": [
       "<Figure size 432x288 with 1 Axes>"
      ]
     },
     "metadata": {
      "needs_background": "light"
     },
     "output_type": "display_data"
    }
   ],
   "source": [
    "low_stair_neighborhoods.plot(x='neighborhood', y='number_of_steps', kind=\"bar\")"
   ]
  },
  {
   "cell_type": "markdown",
   "metadata": {},
   "source": [
    "Manchester and East Liberty aren't properly documented, so let's remove them from consideration."
   ]
  },
  {
   "cell_type": "code",
   "execution_count": 7,
   "metadata": {},
   "outputs": [
    {
     "data": {
      "text/plain": [
       "<matplotlib.axes._subplots.AxesSubplot at 0x7fe343445b50>"
      ]
     },
     "execution_count": 7,
     "metadata": {},
     "output_type": "execute_result"
    },
    {
     "data": {
      "image/png": "[encoded data removed]",
      "text/plain": [
       "<Figure size 432x288 with 1 Axes>"
      ]
     },
     "metadata": {
      "needs_background": "light"
     },
     "output_type": "display_data"
    }
   ],
   "source": [
    "defined_low_stair_neighborhoods = low_stair_neighborhoods.groupby('number_of_steps').filter(lambda x: x['number_of_steps'].value_counts() != 0)\n",
    "defined_low_stair_neighborhoods.plot(x='neighborhood', y='number_of_steps', kind=\"bar\")"
   ]
  },
  {
   "cell_type": "markdown",
   "metadata": {},
   "source": [
    "Mt. Oliver Borough is the clear winner for this particular metric. Let's create a query mask of Mt. Oliver to help with our conclusion."
   ]
  },
  {
   "cell_type": "code",
   "execution_count": 8,
   "metadata": {},
   "outputs": [],
   "source": [
    "mtoliver_query_mask = Stairs['neighborhood'] == \"Mount Oliver Borough\"\n",
    "mtoliver_query = Stairs[mtoliver_query_mask]"
   ]
  },
  {
   "cell_type": "code",
   "execution_count": 9,
   "metadata": {},
   "outputs": [
    {
     "name": "stdout",
     "output_type": "stream",
     "text": [
      "MT. OLIVER BORO SUMMARY\n"
     ]
    },
    {
     "data": {
      "text/plain": [
       "id\n",
       "850876938    Concrete\n",
       "Name: material, dtype: object"
      ]
     },
     "execution_count": 9,
     "metadata": {},
     "output_type": "execute_result"
    }
   ],
   "source": [
    "print(\"MT. OLIVER BORO SUMMARY\")\n",
    "mtoliver_query['number_of_steps'].sum()\n",
    "mtoliver_query['material']"
   ]
  },
  {
   "cell_type": "markdown",
   "metadata": {},
   "source": [
    "With only 9 concrete stairs to traverse, Mt. Oliver Borough is a great neighborhood for running away from the alien invasion."
   ]
  },
  {
   "cell_type": "code",
   "execution_count": 62,
   "metadata": {},
   "outputs": [
    {
     "ename": "KeyError",
     "evalue": "'South Oakland'",
     "output_type": "error",
     "traceback": [
      "\u001b[0;31m---------------------------------------------------------------------------\u001b[0m",
      "\u001b[0;31mKeyError\u001b[0m                                  Traceback (most recent call last)",
      "\u001b[0;32m<ipython-input-62-0b0bd611ab29>\u001b[0m in \u001b[0;36m<module>\u001b[0;34m\u001b[0m\n\u001b[1;32m      8\u001b[0m         \u001b[0mstairsByNeighborhood\u001b[0m\u001b[0;34m[\u001b[0m\u001b[0mneighborhood\u001b[0m\u001b[0;34m]\u001b[0m \u001b[0;34m=\u001b[0m \u001b[0;36m1\u001b[0m\u001b[0;34m\u001b[0m\u001b[0;34m\u001b[0m\u001b[0m\n\u001b[1;32m      9\u001b[0m     \u001b[0;32melse\u001b[0m\u001b[0;34m:\u001b[0m\u001b[0;34m\u001b[0m\u001b[0;34m\u001b[0m\u001b[0m\n\u001b[0;32m---> 10\u001b[0;31m         \u001b[0mstairsByNeighborhood\u001b[0m\u001b[0;34m[\u001b[0m\u001b[0mneighborhood\u001b[0m\u001b[0;34m]\u001b[0m \u001b[0;34m-=\u001b[0m \u001b[0;36m1\u001b[0m\u001b[0;34m/\u001b[0m\u001b[0;36m108\u001b[0m\u001b[0;34m\u001b[0m\u001b[0;34m\u001b[0m\u001b[0m\n\u001b[0m\u001b[1;32m     11\u001b[0m \u001b[0mprint\u001b[0m\u001b[0;34m(\u001b[0m\u001b[0mstairsByNeighborhood\u001b[0m\u001b[0;34m)\u001b[0m\u001b[0;34m\u001b[0m\u001b[0;34m\u001b[0m\u001b[0m\n",
      "\u001b[0;31mKeyError\u001b[0m: 'South Oakland'"
     ]
    }
   ],
   "source": [
    "#neighborhood with most stairways is South Side Slopes with 108 Staircases\n",
    "\n",
    "#adding all the neighborhoods to a dictionary for easier comparison with other metrics\n",
    "stairsByNeighborhood = {}\n",
    "for index, row in Stairs.iterrows():\n",
    "    neighborhood = row['neighborhood']\n",
    "    if neighborhood not in stairsByNeighborhood or :\n",
    "        stairsByNeighborhood[neighborhood] = 1\n",
    "    else:\n",
    "        stairsByNeighborhood[neighborhood] -= 1/108\n",
    "print(stairsByNeighborhood)"
   ]
  },
  {
   "cell_type": "code",
   "execution_count": null,
   "metadata": {},
   "outputs": [],
   "source": []
  }
 ],
 "metadata": {
  "kernelspec": {
   "display_name": "Python 3",
   "language": "python",
   "name": "python3"
  },
  "language_info": {
   "codemirror_mode": {
    "name": "ipython",
    "version": 3
   },
   "file_extension": ".py",
   "mimetype": "text/x-python",
   "name": "python",
   "nbconvert_exporter": "python",
   "pygments_lexer": "ipython3",
   "version": "3.8.3"
  }
 },
 "nbformat": 4,
 "nbformat_minor": 4
}
